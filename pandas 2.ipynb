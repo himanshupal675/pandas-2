{
 "cells": [
  {
   "cell_type": "markdown",
   "id": "ff6ca442-fbeb-4a4e-80c0-169bd5c7f6fc",
   "metadata": {},
   "source": [
    "## Q1. List any five functions of the pandas library with execution."
   ]
  },
  {
   "cell_type": "markdown",
   "id": "f2902607-599d-4e97-a29a-65abd95096f2",
   "metadata": {},
   "source": [
    "Certainly! Here are five functions from the pandas library along with their execution examples:\n",
    "\n",
    "1. **`read_csv()`**: This function is used to read data from a CSV file and create a DataFrame.\n",
    "\n",
    "```python\n",
    "import pandas as pd\n",
    "\n",
    "# Read data from a CSV file into a DataFrame\n",
    "df = pd.read_csv('data.csv')\n",
    "\n",
    "print(df.head())\n",
    "```\n",
    "\n",
    "2. **`groupby()`**: Used to group data based on one or more columns and perform aggregate operations on the groups.\n",
    "\n",
    "```python\n",
    "# Assuming 'df' is a DataFrame\n",
    "grouped = df.groupby('Category')['Price'].mean()\n",
    "\n",
    "print(grouped)\n",
    "```\n",
    "\n",
    "3. **`dropna()`**: Removes rows or columns with missing values (NaN).\n",
    "\n",
    "```python\n",
    "# Assuming 'df' is a DataFrame\n",
    "cleaned_df = df.dropna()\n",
    "\n",
    "print(cleaned_df.head())\n",
    "```\n",
    "\n",
    "4. **`merge()`**: Combines two DataFrames based on a common column or index.\n",
    "\n",
    "```python\n",
    "# Assuming 'df1' and 'df2' are DataFrames\n",
    "merged_df = pd.merge(df1, df2, on='ID')\n",
    "\n",
    "print(merged_df.head())\n",
    "```\n",
    "\n",
    "5. **`pivot_table()`**: Creates a pivot table from a DataFrame, allowing you to summarize and rearrange data.\n",
    "\n",
    "```python\n",
    "# Assuming 'df' is a DataFrame\n",
    "pivot_table = df.pivot_table(index='Category', values='Revenue', aggfunc='sum')\n",
    "\n",
    "print(pivot_table)\n",
    "```\n",
    "\n",
    "Please note that these examples assume that you have the necessary data or DataFrames (`df`, `df1`, `df2`) and corresponding CSV files (`data.csv`) to work with."
   ]
  },
  {
   "cell_type": "markdown",
   "id": "f16ec452-8ce1-449a-a089-633c71ce07c7",
   "metadata": {},
   "source": [
    "## Q2. Given a Pandas DataFrame df with columns 'A', 'B', and 'C', write a Python function to re-index the DataFrame with a new index that starts from 1 and increments by 2 for each row."
   ]
  },
  {
   "cell_type": "code",
   "execution_count": 1,
   "id": "15899ca6-4293-4395-b80c-07a2ed88ecf9",
   "metadata": {},
   "outputs": [
    {
     "name": "stdout",
     "output_type": "stream",
     "text": [
      "    A   B    C\n",
      "1  10   5  100\n",
      "3  20  15  200\n",
      "5  30  25  300\n"
     ]
    }
   ],
   "source": [
    "import pandas as pd\n",
    "\n",
    "def reindex_with_custom_increment(df):\n",
    "    new_index = range(1, 2 * len(df) + 1, 2)  # New index starting from 1 and incrementing by 2\n",
    "    df_reindexed = df.copy()\n",
    "    df_reindexed.index = new_index\n",
    "    return df_reindexed\n",
    "\n",
    "# Sample DataFrame\n",
    "data = {\n",
    "    'A': [10, 20, 30],\n",
    "    'B': [5, 15, 25],\n",
    "    'C': [100, 200, 300]\n",
    "}\n",
    "\n",
    "df = pd.DataFrame(data)\n",
    "\n",
    "# Re-index the DataFrame\n",
    "reindexed_df = reindex_with_custom_increment(df)\n",
    "\n",
    "print(reindexed_df)\n"
   ]
  },
  {
   "cell_type": "markdown",
   "id": "f3dea8da-b298-4dad-84e3-761114267fca",
   "metadata": {},
   "source": [
    "## Q3. You have a Pandas DataFrame df with a column named 'Values'. Write a Python function that iterates over the DataFrame and calculates the sum of the first three values in the 'Values' column. The function should print the sum to the console."
   ]
  },
  {
   "cell_type": "code",
   "execution_count": 2,
   "id": "c0acf74d-b403-4362-b1b8-91eb80852147",
   "metadata": {},
   "outputs": [
    {
     "name": "stdout",
     "output_type": "stream",
     "text": [
      "Sum of the first three values: 60\n"
     ]
    }
   ],
   "source": [
    "import pandas as pd\n",
    "\n",
    "def calculate_sum_of_first_three(df):\n",
    "    values_column = df['Values']  # Extract the 'Values' column\n",
    "    sum_first_three = values_column.head(3).sum()  # Sum of the first three values\n",
    "    print(\"Sum of the first three values:\", sum_first_three)\n",
    "\n",
    "# Sample DataFrame\n",
    "data = {\n",
    "    'Values': [10, 20, 30, 40, 50]\n",
    "}\n",
    "\n",
    "df = pd.DataFrame(data)\n",
    "\n",
    "# Calculate and print the sum of the first three values\n",
    "calculate_sum_of_first_three(df)\n"
   ]
  },
  {
   "cell_type": "markdown",
   "id": "37251565-db32-453f-a097-8bc7e330bf07",
   "metadata": {},
   "source": [
    "## Q4. Given a Pandas DataFrame df with a column 'Text', write a Python function to create a new column 'Word_Count' that contains the number of words in each row of the 'Text' column."
   ]
  },
  {
   "cell_type": "code",
   "execution_count": 3,
   "id": "4264fc77-92ee-4d63-bc3d-0c34715e5ad2",
   "metadata": {},
   "outputs": [
    {
     "name": "stdout",
     "output_type": "stream",
     "text": [
      "                              Text  Word_Count\n",
      "0       This is a sample sentence.           5\n",
      "1  Another example for word count.           5\n",
      "2           Just a few words here.           5\n"
     ]
    }
   ],
   "source": [
    "import pandas as pd\n",
    "\n",
    "def count_words(text):\n",
    "    return len(text.split())  # Split the text into words and count them\n",
    "\n",
    "# Sample DataFrame\n",
    "data = {\n",
    "    'Text': [\n",
    "        \"This is a sample sentence.\",\n",
    "        \"Another example for word count.\",\n",
    "        \"Just a few words here.\"\n",
    "    ]\n",
    "}\n",
    "\n",
    "df = pd.DataFrame(data)\n",
    "\n",
    "# Apply the count_words function to create the 'Word_Count' column\n",
    "df['Word_Count'] = df['Text'].apply(count_words)\n",
    "\n",
    "print(df)\n"
   ]
  },
  {
   "cell_type": "markdown",
   "id": "f8a8e782-0666-45f2-8b11-116f3514829b",
   "metadata": {},
   "source": [
    "## Q5. How are DataFrame.size() and DataFrame.shape() different?"
   ]
  },
  {
   "cell_type": "markdown",
   "id": "34798208-6e35-4f85-881c-74c516dde33e",
   "metadata": {},
   "source": [
    "`DataFrame.size` and `DataFrame.shape` are both attributes of Pandas DataFrames that provide information about the size and shape of the DataFrame, but they provide different types of information:\n",
    "\n",
    "1. **`DataFrame.size`**:\n",
    "   - `DataFrame.size` returns the total number of elements in the DataFrame, which is equal to the number of rows multiplied by the number of columns.\n",
    "   - It provides the total count of cells in the DataFrame, regardless of their content.\n",
    "\n",
    "Example:\n",
    "```python\n",
    "import pandas as pd\n",
    "\n",
    "data = {'A': [1, 2, 3], 'B': [4, 5, 6]}\n",
    "df = pd.DataFrame(data)\n",
    "\n",
    "print(df.size)  # Output: 6 (2 rows * 3 columns)\n",
    "```\n",
    "\n",
    "2. **`DataFrame.shape`**:\n",
    "   - `DataFrame.shape` returns a tuple representing the dimensions of the DataFrame. The tuple contains two values: the number of rows and the number of columns.\n",
    "   - It provides information about the structure of the DataFrame in terms of rows and columns.\n",
    "\n",
    "Example:\n",
    "```python\n",
    "import pandas as pd\n",
    "\n",
    "data = {'A': [1, 2, 3], 'B': [4, 5, 6]}\n",
    "df = pd.DataFrame(data)\n",
    "\n",
    "print(df.shape)  # Output: (3, 2) (3 rows, 2 columns)\n",
    "```\n",
    "\n",
    "In summary, `DataFrame.size` gives you the total number of elements (cells) in the DataFrame, while `DataFrame.shape` gives you the dimensions of the DataFrame in terms of rows and columns."
   ]
  },
  {
   "cell_type": "markdown",
   "id": "7d91c058-3646-4a75-b7cc-c6ba1d24860a",
   "metadata": {},
   "source": [
    "## Q6. Which function of pandas do we use to read an excel file?"
   ]
  },
  {
   "cell_type": "markdown",
   "id": "15501d30-8df4-4a8f-a944-bcee7db5378d",
   "metadata": {},
   "source": [
    "To read an Excel file using Pandas, you can use the `pd.read_excel()` function. This function reads data from an Excel file and returns it as a Pandas DataFrame.\n",
    "\n",
    "Here's how you can use the `pd.read_excel()` function to read an Excel file:\n",
    "\n",
    "```python\n",
    "import pandas as pd\n",
    "\n",
    "# Read data from an Excel file into a DataFrame\n",
    "df = pd.read_excel('file.xlsx')\n",
    "\n",
    "print(df.head())\n",
    "```\n",
    "\n",
    "In this example, replace `'file.xlsx'` with the path to your Excel file. The function reads the data from the Excel file and creates a DataFrame containing the data."
   ]
  },
  {
   "cell_type": "markdown",
   "id": "288c6862-e383-4910-87bf-12461fa50615",
   "metadata": {},
   "source": [
    "## Q7. You have a Pandas DataFrame df that contains a column named 'Email' that contains email addresses in the format 'username@domain.com'. Write a Python function that creates a new column 'Username' in df that contains only the username part of each email address."
   ]
  },
  {
   "cell_type": "code",
   "execution_count": null,
   "id": "05acf331-b100-44c8-ae36-3c05f7de0e49",
   "metadata": {},
   "outputs": [
    {
     "name": "stdout",
     "output_type": "stream",
     "text": [
      "                          Email          Username\n",
      "0          john.doe@example.com          john.doe\n",
      "1        jane.smith@example.com        jane.smith\n",
      "2  alice.wonderland@example.com  alice.wonderland\n"
     ]
    }
   ],
   "source": [
    "import pandas as pd\n",
    "\n",
    "def extract_username(email):\n",
    "    return email.split('@')[0]  # Split by '@' and take the first part\n",
    "\n",
    "# Sample DataFrame\n",
    "data = {\n",
    "    'Email': [\n",
    "        'john.doe@example.com',\n",
    "        'jane.smith@example.com',\n",
    "        'alice.wonderland@example.com'\n",
    "    ]\n",
    "}\n",
    "\n",
    "df = pd.DataFrame(data)\n",
    "\n",
    "# Apply the extract_username function to create the 'Username' column\n",
    "df['Username'] = df['Email'].apply(extract_username)\n",
    "\n",
    "print(df)\n"
   ]
  },
  {
   "cell_type": "markdown",
   "id": "c7eadb50-438a-411f-a30f-a82a41c37663",
   "metadata": {},
   "source": [
    "## Q8. You have a Pandas DataFrame df with columns 'A', 'B', and 'C'. Write a Python function that selects all rows where the value in column 'A' is greater than 5 and the value in column 'B' is less than 10. The function should return a new DataFrame that contains only the selected rows."
   ]
  },
  {
   "cell_type": "code",
   "execution_count": 6,
   "id": "64998ad0-641b-4e98-840d-2bf156371201",
   "metadata": {},
   "outputs": [
    {
     "name": "stdout",
     "output_type": "stream",
     "text": [
      "   A  B  C\n",
      "1  8  2  7\n",
      "2  6  9  4\n",
      "4  9  1  2\n"
     ]
    }
   ],
   "source": [
    "import pandas as pd\n",
    "\n",
    "# Sample DataFrame\n",
    "data = {\n",
    "    'A': [3, 8, 6, 2, 9],\n",
    "    'B': [5, 2, 9, 3, 1],\n",
    "    'C': [1, 7, 4, 5, 2]\n",
    "}\n",
    "\n",
    "df = pd.DataFrame(data)\n",
    "\n",
    "def filter_dataframe(df):\n",
    "    filtered_df = df[(df['A'] > 5) & (df['B'] < 10)]\n",
    "    return filtered_df\n",
    "\n",
    "# Call the function to get the filtered DataFrame\n",
    "filtered_df = filter_dataframe(df)\n",
    "\n",
    "print(filtered_df)\n"
   ]
  },
  {
   "cell_type": "markdown",
   "id": "2513d294-0b97-4cb3-bf20-a8f20a0fafed",
   "metadata": {},
   "source": [
    "## Q9. Given a Pandas DataFrame df with a column 'Values', write a Python function to calculate the mean, median, and standard deviation of the values in the 'Values' column."
   ]
  },
  {
   "cell_type": "code",
   "execution_count": 7,
   "id": "9533ed2d-16d5-4d16-86c6-6cda27c45256",
   "metadata": {},
   "outputs": [
    {
     "name": "stdout",
     "output_type": "stream",
     "text": [
      "Mean: 30.0\n",
      "Median: 30.0\n",
      "Standard Deviation: 15.811388300841896\n"
     ]
    }
   ],
   "source": [
    "import pandas as pd\n",
    "\n",
    "def calculate_statistics(df):\n",
    "    values_column = df['Values']  # Extract the 'Values' column\n",
    "\n",
    "    mean = values_column.mean()  # Calculate the mean\n",
    "    median = values_column.median()  # Calculate the median\n",
    "    std_dev = values_column.std()  # Calculate the standard deviation\n",
    "\n",
    "    return mean, median, std_dev\n",
    "\n",
    "# Sample DataFrame\n",
    "data = {\n",
    "    'Values': [10, 20, 30, 40, 50]\n",
    "}\n",
    "\n",
    "df = pd.DataFrame(data)\n",
    "\n",
    "# Calculate statistics using the function\n",
    "mean, median, std_dev = calculate_statistics(df)\n",
    "\n",
    "print(\"Mean:\", mean)\n",
    "print(\"Median:\", median)\n",
    "print(\"Standard Deviation:\", std_dev)\n"
   ]
  },
  {
   "cell_type": "markdown",
   "id": "540d4319-821f-4c4d-8464-6342a8d715da",
   "metadata": {},
   "source": [
    "## Q10. Given a Pandas DataFrame df with a column 'Sales' and a column 'Date', write a Python function to create a new column 'MovingAverage' that contains the moving average of the sales for the past 7 days for each row in the DataFrame. The moving average should be calculated using a window of size 7 and should include the current day."
   ]
  },
  {
   "cell_type": "code",
   "execution_count": 8,
   "id": "d16f7208-9ffc-4bca-9457-1238d533f505",
   "metadata": {},
   "outputs": [
    {
     "name": "stdout",
     "output_type": "stream",
     "text": [
      "        Date  Sales  MovingAverage\n",
      "0 2023-08-01    100          100.0\n",
      "1 2023-08-02    150          125.0\n",
      "2 2023-08-03    200          150.0\n",
      "3 2023-08-04    120          142.5\n",
      "4 2023-08-05    180          150.0\n"
     ]
    }
   ],
   "source": [
    "import pandas as pd\n",
    "\n",
    "def calculate_moving_average(df):\n",
    "    window_size = 7\n",
    "    df['MovingAverage'] = df['Sales'].rolling(window=window_size, min_periods=1).mean()\n",
    "    return df\n",
    "\n",
    "# Sample DataFrame\n",
    "data = {\n",
    "    'Date': ['2023-08-01', '2023-08-02', '2023-08-03', '2023-08-04', '2023-08-05'],\n",
    "    'Sales': [100, 150, 200, 120, 180]\n",
    "}\n",
    "\n",
    "df = pd.DataFrame(data)\n",
    "df['Date'] = pd.to_datetime(df['Date'])  # Convert 'Date' column to datetime\n",
    "\n",
    "# Calculate moving average using the function\n",
    "df_with_moving_avg = calculate_moving_average(df)\n",
    "\n",
    "print(df_with_moving_avg)\n"
   ]
  },
  {
   "cell_type": "markdown",
   "id": "551846df-efcc-464c-bd1b-7a3dc2c70884",
   "metadata": {},
   "source": [
    "## Q11. You have a Pandas DataFrame df with a column 'Date'. Write a Python function that creates a new column 'Weekday' in the DataFrame. The 'Weekday' column should contain the weekday name (e.g. Monday, Tuesday) corresponding to each date in the 'Date' column."
   ]
  },
  {
   "cell_type": "code",
   "execution_count": 9,
   "id": "b28cd201-121f-4866-a0e4-5fecc82a48c2",
   "metadata": {},
   "outputs": [
    {
     "name": "stdout",
     "output_type": "stream",
     "text": [
      "        Date    Weekday\n",
      "0 2023-01-01     Sunday\n",
      "1 2023-01-02     Monday\n",
      "2 2023-01-03    Tuesday\n",
      "3 2023-01-04  Wednesday\n",
      "4 2023-01-05   Thursday\n"
     ]
    }
   ],
   "source": [
    "import pandas as pd\n",
    "\n",
    "def add_weekday_column(df):\n",
    "    df['Weekday'] = df['Date'].dt.strftime('%A')  # Extract weekday name and add to 'Weekday' column\n",
    "    return df\n",
    "\n",
    "# Sample DataFrame\n",
    "data = {\n",
    "    'Date': ['2023-01-01', '2023-01-02', '2023-01-03', '2023-01-04', '2023-01-05']\n",
    "}\n",
    "\n",
    "df = pd.DataFrame(data)\n",
    "df['Date'] = pd.to_datetime(df['Date'])  # Convert 'Date' column to datetime\n",
    "\n",
    "# Add 'Weekday' column using the function\n",
    "df_with_weekday = add_weekday_column(df)\n",
    "\n",
    "print(df_with_weekday)\n"
   ]
  },
  {
   "cell_type": "markdown",
   "id": "4a947d7a-9ed8-41e8-8db8-5114fe3fd830",
   "metadata": {},
   "source": [
    "## Q12. Given a Pandas DataFrame df with a column 'Date' that contains timestamps, write a Pythonfunction to select all rows where the date is between '2023-01-01' and '2023-01-31'."
   ]
  },
  {
   "cell_type": "code",
   "execution_count": 10,
   "id": "654233fd-fede-4cd3-9ddb-22c1cf1ad4cc",
   "metadata": {},
   "outputs": [
    {
     "name": "stdout",
     "output_type": "stream",
     "text": [
      "        Date\n",
      "0 2023-01-01\n",
      "1 2023-01-15\n",
      "2 2023-01-20\n",
      "3 2023-01-31\n"
     ]
    }
   ],
   "source": [
    "import pandas as pd\n",
    "\n",
    "def filter_by_date_range(df):\n",
    "    start_date = '2023-01-01'\n",
    "    end_date = '2023-01-31'\n",
    "    filtered_df = df[(df['Date'] >= start_date) & (df['Date'] <= end_date)]\n",
    "    return filtered_df\n",
    "\n",
    "# Sample DataFrame\n",
    "data = {\n",
    "    'Date': [\n",
    "        '2023-01-01', '2023-01-15', '2023-01-20', '2023-01-31', '2023-02-10'\n",
    "    ]\n",
    "}\n",
    "\n",
    "df = pd.DataFrame(data)\n",
    "df['Date'] = pd.to_datetime(df['Date'])  # Convert 'Date' column to datetime\n",
    "\n",
    "# Filter by date range using the function\n",
    "filtered_df = filter_by_date_range(df)\n",
    "\n",
    "print(filtered_df)\n"
   ]
  },
  {
   "cell_type": "markdown",
   "id": "cfc824b9-24c0-4e66-8f60-08de2200740e",
   "metadata": {},
   "source": [
    "## Q13. To use the basic functions of pandas, what is the first and foremost necessary library that needs to be imported? "
   ]
  },
  {
   "cell_type": "markdown",
   "id": "83eef960-0ccd-4262-84b5-b6a291c7d008",
   "metadata": {},
   "source": [
    "To use the basic functions of Pandas, you need to import the `pandas` library itself. You typically import it using the following line:\n",
    "\n",
    "```python\n",
    "import pandas as pd\n",
    "```\n",
    "\n",
    "By convention, most users alias `pandas` as `pd` to make the code shorter and more readable. This is the first and foremost step you should take before using any Pandas functions in your Python code."
   ]
  },
  {
   "cell_type": "code",
   "execution_count": null,
   "id": "dd2e288b-8fbf-4949-9998-d5dbad9645ae",
   "metadata": {},
   "outputs": [],
   "source": []
  }
 ],
 "metadata": {
  "kernelspec": {
   "display_name": "Python 3 (ipykernel)",
   "language": "python",
   "name": "python3"
  },
  "language_info": {
   "codemirror_mode": {
    "name": "ipython",
    "version": 3
   },
   "file_extension": ".py",
   "mimetype": "text/x-python",
   "name": "python",
   "nbconvert_exporter": "python",
   "pygments_lexer": "ipython3",
   "version": "3.10.8"
  }
 },
 "nbformat": 4,
 "nbformat_minor": 5
}
